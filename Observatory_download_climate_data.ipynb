{
 "cells": [
  {
   "cell_type": "markdown",
   "metadata": {
    "collapsed": false
   },
   "source": [
    "\n",
    "# Watershed Dynamics Model \n",
    "\n",
    "<img src=\"https://www.washington.edu/brand/files/2014/09/W-Logo_Purple_Hex.png\" style=\"float:right;width:300px;padding:20px\">   \n",
    "\n",
    "Download gridded climate data in the Sauk-Suiattle watershed from a HydroShare Observatory. <br />\n",
    "<br />\n",
    "This Jupyter Notebook contains selected model components <br /> \n",
    "of the Watershed Dynamics model identified with a bullet  <br /> \n",
    "<br /> \n",
    "* Download daily 1/16 degree gridded meteorology data, <br /> \n",
    "* Download daily 1/16 degree VIC fluxes.<br /> \n",
    "* Save data to a new HydroShare resource, <br /> "
   ]
  },
  {
   "cell_type": "markdown",
   "metadata": {},
   "source": [
    "##  HydroShare Setup and Preparation\n",
    "\n",
    "To run this notebook, we must import several libaries.\n",
    "The hs_utils library provides functions for interacting with HydroShare, including resource querying, dowloading and creation. "
   ]
  },
  {
   "cell_type": "code",
   "execution_count": 1,
   "metadata": {
    "collapsed": false
   },
   "outputs": [
    {
     "name": "stdout",
     "output_type": "stream",
     "text": [
      "Version 4/10/17\n"
     ]
    }
   ],
   "source": [
    "import os\n",
    "from utilities import hydroshare \n",
    "from datetime import datetime, timedelta\n",
    "import pytz\n",
    "import matplotlib.pyplot as plt\n",
    "import seaborn\n",
    "import numpy as np\n",
    "import pandas as pd\n",
    "import shutil\n",
    "#import observatory_gridded_meteorology as ogm  \n",
    "import observatory_gridded_hydromet as ogh"
   ]
  },
  {
   "cell_type": "markdown",
   "metadata": {},
   "source": [
    "Next we need to establish a secure connection with HydroShare. This is done by simply instantiating the hydroshare class that is defined within hs_utils. In addition to connecting with HydroShare, this command also sets and prints environment variables for several parameters that will be useful for saving your work back to HydroShare. "
   ]
  },
  {
   "cell_type": "code",
   "execution_count": 2,
   "metadata": {
    "collapsed": false
   },
   "outputs": [
    {
     "name": "stdout",
     "output_type": "stream",
     "text": [
      "Adding the following system variables:\n",
      "   HS_USR_NAME = ChristinaBandaragoda\n",
      "   HS_RES_ID = 0f4efd1cedb64a5a9fa90cf1f248e22f\n",
      "   HS_RES_TYPE = genericresource\n",
      "   JUPYTER_HUB_IP = hydroroger.ncsa.illinois.edu\n",
      "\n",
      "These can be accessed using the following command: \n",
      "   os.environ[key]\n",
      "\n",
      "   (e.g.)\n",
      "   os.environ[\"HS_USR_NAME\"]  => ChristinaBandaragoda\n"
     ]
    },
    {
     "data": {
      "text/html": [
       "<b style=\"color:green;\">Successfully established a connection with HydroShare</b>"
      ],
      "text/plain": [
       "<IPython.core.display.HTML object>"
      ]
     },
     "metadata": {},
     "output_type": "display_data"
    },
    {
     "name": "stdout",
     "output_type": "stream",
     "text": [
      "This is where the HydroShare resource you just downloaded is temporarily stored on the JupyterHub server:/home/jovyan/work/notebooks/data/0183ec4000f644fa9378cf28cfe5c2e2/0183ec4000f644fa9378cf28cfe5c2e2/data/contents\n"
     ]
    }
   ],
   "source": [
    "hs=hydroshare.hydroshare()\n",
    "# Create object to map the home directory\n",
    "homedir = os.getcwd()\n",
    "\n",
    "print 'This is where the HydroShare resource you just downloaded is temporarily stored on the JupyterHub server:' + homedir\n",
    "\n",
    "# if the working directory is not starting at homedir, set it to homedir\n",
    "if os.getcwd() != homedir:\n",
    "    os.chdir(homedir)"
   ]
  },
  {
   "cell_type": "markdown",
   "metadata": {},
   "source": [
    "If you are curious about where the data is located, click on the Jupyter Notebook dashboard icon to return to the File System view.  The homedir directory location printed above is where you can find the data and contents.  At the end of this work session, you can migrate this data on the JupyterHub server to the HydroShare iRods server as a Generic Resource. "
   ]
  },
  {
   "cell_type": "markdown",
   "metadata": {},
   "source": [
    "## 2. Get list of gridded climate points for the watershed\n",
    "\n",
    "Retrieve a list of grid points and configuration file from the downloaded HydroShare resource.<br />  Identify the location and name of the 'mappingfile' which includes a minimum of two columns 'LAT' and 'LONG_'.\n"
   ]
  },
  {
   "cell_type": "code",
   "execution_count": 3,
   "metadata": {
    "collapsed": false
   },
   "outputs": [
    {
     "name": "stdout",
     "output_type": "stream",
     "text": [
      "This resource already exists in your userspace.\n",
      "Would you like to overwrite this data [Y/n]? Y\n",
      "                       ...\n"
     ]
    },
    {
     "data": {
      "text/html": [
       "<b style=\"color:green;\">Download Completed Successfully</b>"
      ],
      "text/plain": [
       "<IPython.core.display.HTML object>"
      ]
     },
     "metadata": {},
     "output_type": "display_data"
    },
    {
     "data": {
      "text/html": [
       "<b>Found the following file(s) associated with this HydroShare resource.</b>"
      ],
      "text/plain": [
       "<IPython.core.display.HTML object>"
      ]
     },
     "metadata": {},
     "output_type": "display_data"
    },
    {
     "data": {
      "text/html": [
       "Sauk_94CentroidVICpoints_UTM.csv"
      ],
      "text/plain": [
       "<IPython.core.display.HTML object>"
      ]
     },
     "metadata": {},
     "output_type": "display_data"
    },
    {
     "data": {
      "text/html": [
       "These files are stored in a dictionary called <b>hs.content</b> for your convenience.  To access a file, simply issue the following command where MY_FILE is one of the files listed above: <pre>hs.content[\"MY_FILE\"] </pre> "
      ],
      "text/plain": [
       "<IPython.core.display.HTML object>"
      ]
     },
     "metadata": {},
     "output_type": "display_data"
    },
    {
     "name": "stdout",
     "output_type": "stream",
     "text": [
      "/home/jovyan/work/notebooks/data/d90289409f904017831d308642c1eb30/d90289409f904017831d308642c1eb30/data/contents/Sauk_94CentroidVICpoints_UTM.csv\n"
     ]
    }
   ],
   "source": [
    "hs.getResourceFromHydroShare('d90289409f904017831d308642c1eb30')\n",
    "mappingfile = hs.content[\"Sauk_94CentroidVICpoints_UTM.csv\"]\n",
    "print mappingfile"
   ]
  },
  {
   "cell_type": "markdown",
   "metadata": {},
   "source": [
    " ## 3. Download Daily Obserational Hydrometeorology gridded data"
   ]
  },
  {
   "cell_type": "markdown",
   "metadata": {},
   "source": [
    "\n",
    "### Get Daily Meteorologic Data   (edit to also download VIC fluxes)<br/> from Livneh et al. 2013 (1915-2011; CONUS extent) \n",
    "Run the next code block if your data is within the Continental United States and you want daily data 1915-2011. \n",
    "View data extent at Livneh, B. (2017). Gridded climatology locations (1/16th degree): Continental United States extent, HydroShare, http://www.hydroshare.org/resource/14f0a6619c6b45cc90d1f8cabc4129af\n",
    "<br/><br/>\n",
    "Please cite 2013 data using: <br/>\n",
    "Livneh B., E.A. Rosenberg, C. Lin, B. Nijssen, V. Mishra, K.M. Andreadis, E.P. Maurer, and D.P. Lettenmaier, 2013: A Long-Term Hydrologically Based Dataset of Land Surface Fluxes and States for the Conterminous United States: Update and Extensions, Journal of Climate, 26, 9384–9392."
   ]
  },
  {
   "cell_type": "code",
   "execution_count": 8,
   "metadata": {
    "collapsed": false
   },
   "outputs": [
    {
     "name": "stdout",
     "output_type": "stream",
     "text": [
      "File does not exist: ftp.hydro.washington.edu/pub/blivneh/CONUS/Fluxes.asc.v.1.2.1915.2011.bz2/fluxes.canada.columbia/VIC_fluxes_Livneh_CONUSExt_v.1.2_2013_47.96875_-121.09375.bz2\n",
      "File does not exist: ftp.hydro.washington.edu/pub/blivneh/CONUS/Fluxes.asc.v.1.2.1915.2011.bz2/fluxes.canada.columbia/VIC_fluxes_Livneh_CONUSExt_v.1.2_2013_47.96875_-121.46875.bz2\n",
      "File does not exist: ftp.hydro.washington.edu/pub/blivneh/CONUS/Fluxes.asc.v.1.2.1915.2011.bz2/fluxes.canada.columbia/VIC_fluxes_Livneh_CONUSExt_v.1.2_2013_47.96875_-121.28125.bz2\n",
      "File does not exist: ftp.hydro.washington.edu/pub/blivneh/CONUS/Fluxes.asc.v.1.2.1915.2011.bz2/fluxes.canada.columbia/VIC_fluxes_Livneh_CONUSExt_v.1.2_2013_48.09375_-121.59375.bz2\n",
      "File does not exist: ftp.hydro.washington.edu/pub/blivneh/CONUS/Fluxes.asc.v.1.2.1915.2011.bz2/fluxes.canada.columbia/VIC_fluxes_Livneh_CONUSExt_v.1.2_2013_48.09375_-121.40625.bz2\n",
      "File does not exist: ftp.hydro.washington.edu/pub/blivneh/CONUS/Fluxes.asc.v.1.2.1915.2011.bz2/fluxes.canada.columbia/VIC_fluxes_Livneh_CONUSExt_v.1.2_2013_48.03125_-121.46875.bz2\n",
      "File does not exist: ftp.hydro.washington.edu/pub/blivneh/CONUS/Fluxes.asc.v.1.2.1915.2011.bz2/fluxes.canada.columbia/VIC_fluxes_Livneh_CONUSExt_v.1.2_2013_48.09375_-121.03125.bz2\n",
      "File does not exist: ftp.hydro.washington.edu/pub/blivneh/CONUS/Fluxes.asc.v.1.2.1915.2011.bz2/fluxes.canada.columbia/VIC_fluxes_Livneh_CONUSExt_v.1.2_2013_48.03125_-121.09375.bz2\n",
      "File does not exist: ftp.hydro.washington.edu/pub/blivneh/CONUS/Fluxes.asc.v.1.2.1915.2011.bz2/fluxes.canada.columbia/VIC_fluxes_Livneh_CONUSExt_v.1.2_2013_48.03125_-121.28125.bz2\n",
      "File does not exist: ftp.hydro.washington.edu/pub/blivneh/CONUS/Fluxes.asc.v.1.2.1915.2011.bz2/fluxes.canada.columbia/VIC_fluxes_Livneh_CONUSExt_v.1.2_2013_48.09375_-121.21875.bz2\n",
      "File does not exist: ftp.hydro.washington.edu/pub/blivneh/CONUS/Fluxes.asc.v.1.2.1915.2011.bz2/fluxes.canada.columbia/VIC_fluxes_Livneh_CONUSExt_v.1.2_2013_47.96875_-121.15625.bz2\n",
      "File does not exist: ftp.hydro.washington.edu/pub/blivneh/CONUS/Fluxes.asc.v.1.2.1915.2011.bz2/fluxes.canada.columbia/VIC_fluxes_Livneh_CONUSExt_v.1.2_2013_47.96875_-121.53125.bz2\n",
      "File does not exist: ftp.hydro.washington.edu/pub/blivneh/CONUS/Fluxes.asc.v.1.2.1915.2011.bz2/fluxes.canada.columbia/VIC_fluxes_Livneh_CONUSExt_v.1.2_2013_47.96875_-121.34375.bz2\n",
      "File does not exist: ftp.hydro.washington.edu/pub/blivneh/CONUS/Fluxes.asc.v.1.2.1915.2011.bz2/fluxes.canada.columbia/VIC_fluxes_Livneh_CONUSExt_v.1.2_2013_48.09375_-121.46875.bz2\n",
      "File does not exist: ftp.hydro.washington.edu/pub/blivneh/CONUS/Fluxes.asc.v.1.2.1915.2011.bz2/fluxes.canada.columbia/VIC_fluxes_Livneh_CONUSExt_v.1.2_2013_48.09375_-121.65625.bz2\n",
      "File does not exist: ftp.hydro.washington.edu/pub/blivneh/CONUS/Fluxes.asc.v.1.2.1915.2011.bz2/fluxes.canada.columbia/VIC_fluxes_Livneh_CONUSExt_v.1.2_2013_48.09375_-120.90625.bz2\n",
      "File does not exist: ftp.hydro.washington.edu/pub/blivneh/CONUS/Fluxes.asc.v.1.2.1915.2011.bz2/fluxes.canada.columbia/VIC_fluxes_Livneh_CONUSExt_v.1.2_2013_48.09375_-121.09375.bz2\n",
      "File does not exist: ftp.hydro.washington.edu/pub/blivneh/CONUS/Fluxes.asc.v.1.2.1915.2011.bz2/fluxes.canada.columbia/VIC_fluxes_Livneh_CONUSExt_v.1.2_2013_48.03125_-121.15625.bz2\n",
      "File does not exist: ftp.hydro.washington.edu/pub/blivneh/CONUS/Fluxes.asc.v.1.2.1915.2011.bz2/fluxes.canada.columbia/VIC_fluxes_Livneh_CONUSExt_v.1.2_2013_48.03125_-121.34375.bz2\n",
      "File does not exist: ftp.hydro.washington.edu/pub/blivneh/CONUS/Fluxes.asc.v.1.2.1915.2011.bz2/fluxes.canada.columbia/VIC_fluxes_Livneh_CONUSExt_v.1.2_2013_48.09375_-121.28125.bz2\n",
      "File does not exist: ftp.hydro.washington.edu/pub/blivneh/CONUS/Fluxes.asc.v.1.2.1915.2011.bz2/fluxes.canada.columbia/VIC_fluxes_Livneh_CONUSExt_v.1.2_2013_47.96875_-121.21875.bz2\n",
      "File does not exist: ftp.hydro.washington.edu/pub/blivneh/CONUS/Fluxes.asc.v.1.2.1915.2011.bz2/fluxes.canada.columbia/VIC_fluxes_Livneh_CONUSExt_v.1.2_2013_48.03125_-121.03125.bz2\n",
      "File does not exist: ftp.hydro.washington.edu/pub/blivneh/CONUS/Fluxes.asc.v.1.2.1915.2011.bz2/fluxes.canada.columbia/VIC_fluxes_Livneh_CONUSExt_v.1.2_2013_47.96875_-121.40625.bz2\n",
      "File does not exist: ftp.hydro.washington.edu/pub/blivneh/CONUS/Fluxes.asc.v.1.2.1915.2011.bz2/fluxes.canada.columbia/VIC_fluxes_Livneh_CONUSExt_v.1.2_2013_48.09375_-121.71875.bz2\n",
      "File does not exist: ftp.hydro.washington.edu/pub/blivneh/CONUS/Fluxes.asc.v.1.2.1915.2011.bz2/fluxes.canada.columbia/VIC_fluxes_Livneh_CONUSExt_v.1.2_2013_48.09375_-121.53125.bz2\n",
      "File does not exist: ftp.hydro.washington.edu/pub/blivneh/CONUS/Fluxes.asc.v.1.2.1915.2011.bz2/fluxes.canada.columbia/VIC_fluxes_Livneh_CONUSExt_v.1.2_2013_48.03125_-121.21875.bz2\n",
      "File does not exist: ftp.hydro.washington.edu/pub/blivneh/CONUS/Fluxes.asc.v.1.2.1915.2011.bz2/fluxes.canada.columbia/VIC_fluxes_Livneh_CONUSExt_v.1.2_2013_48.09375_-121.34375.bz2\n",
      "File does not exist: ftp.hydro.washington.edu/pub/blivneh/CONUS/Fluxes.asc.v.1.2.1915.2011.bz2/fluxes.canada.columbia/VIC_fluxes_Livneh_CONUSExt_v.1.2_2013_48.09375_-120.96875.bz2\n",
      "File does not exist: ftp.hydro.washington.edu/pub/blivneh/CONUS/Fluxes.asc.v.1.2.1915.2011.bz2/fluxes.canada.columbia/VIC_fluxes_Livneh_CONUSExt_v.1.2_2013_48.09375_-121.15625.bz2\n",
      "File does not exist: ftp.hydro.washington.edu/pub/blivneh/CONUS/Fluxes.asc.v.1.2.1915.2011.bz2/fluxes.canada.columbia/VIC_fluxes_Livneh_CONUSExt_v.1.2_2013_48.03125_-121.40625.bz2\n",
      "File does not exist: ftp.hydro.washington.edu/pub/blivneh/CONUS/Fluxes.asc.v.1.2.1915.2011.bz2/fluxes.canada.columbia/VIC_fluxes_Livneh_CONUSExt_v.1.2_2013_48.15625_-121.03125.bz2\n",
      "File does not exist: ftp.hydro.washington.edu/pub/blivneh/CONUS/Fluxes.asc.v.1.2.1915.2011.bz2/fluxes.canada.columbia/VIC_fluxes_Livneh_CONUSExt_v.1.2_2013_48.15625_-120.84375.bz2\n",
      "File does not exist: ftp.hydro.washington.edu/pub/blivneh/CONUS/Fluxes.asc.v.1.2.1915.2011.bz2/fluxes.canada.columbia/VIC_fluxes_Livneh_CONUSExt_v.1.2_2013_48.15625_-121.40625.bz2\n",
      "File does not exist: ftp.hydro.washington.edu/pub/blivneh/CONUS/Fluxes.asc.v.1.2.1915.2011.bz2/fluxes.canada.columbia/VIC_fluxes_Livneh_CONUSExt_v.1.2_2013_48.15625_-121.59375.bz2\n",
      "File does not exist: ftp.hydro.washington.edu/pub/blivneh/CONUS/Fluxes.asc.v.1.2.1915.2011.bz2/fluxes.canada.columbia/VIC_fluxes_Livneh_CONUSExt_v.1.2_2013_48.21875_-120.90625.bz2\n",
      "File does not exist: ftp.hydro.washington.edu/pub/blivneh/CONUS/Fluxes.asc.v.1.2.1915.2011.bz2/fluxes.canada.columbia/VIC_fluxes_Livneh_CONUSExt_v.1.2_2013_48.15625_-121.21875.bz2\n",
      "File does not exist: ftp.hydro.washington.edu/pub/blivneh/CONUS/Fluxes.asc.v.1.2.1915.2011.bz2/fluxes.canada.columbia/VIC_fluxes_Livneh_CONUSExt_v.1.2_2013_48.21875_-121.09375.bz2\n",
      "File does not exist: ftp.hydro.washington.edu/pub/blivneh/CONUS/Fluxes.asc.v.1.2.1915.2011.bz2/fluxes.canada.columbia/VIC_fluxes_Livneh_CONUSExt_v.1.2_2013_48.21875_-121.28125.bz2\n",
      "File does not exist: ftp.hydro.washington.edu/pub/blivneh/CONUS/Fluxes.asc.v.1.2.1915.2011.bz2/fluxes.canada.columbia/VIC_fluxes_Livneh_CONUSExt_v.1.2_2013_48.21875_-121.46875.bz2\n",
      "File does not exist: ftp.hydro.washington.edu/pub/blivneh/CONUS/Fluxes.asc.v.1.2.1915.2011.bz2/fluxes.canada.columbia/VIC_fluxes_Livneh_CONUSExt_v.1.2_2013_48.21875_-121.65625.bz2\n",
      "File does not exist: ftp.hydro.washington.edu/pub/blivneh/CONUS/Fluxes.asc.v.1.2.1915.2011.bz2/fluxes.canada.columbia/VIC_fluxes_Livneh_CONUSExt_v.1.2_2013_48.15625_-120.90625.bz2\n",
      "File does not exist: ftp.hydro.washington.edu/pub/blivneh/CONUS/Fluxes.asc.v.1.2.1915.2011.bz2/fluxes.canada.columbia/VIC_fluxes_Livneh_CONUSExt_v.1.2_2013_48.15625_-121.09375.bz2\n",
      "File does not exist: ftp.hydro.washington.edu/pub/blivneh/CONUS/Fluxes.asc.v.1.2.1915.2011.bz2/fluxes.canada.columbia/VIC_fluxes_Livneh_CONUSExt_v.1.2_2013_48.15625_-121.46875.bz2\n",
      "File does not exist: ftp.hydro.washington.edu/pub/blivneh/CONUS/Fluxes.asc.v.1.2.1915.2011.bz2/fluxes.canada.columbia/VIC_fluxes_Livneh_CONUSExt_v.1.2_2013_48.21875_-120.96875.bz2\n",
      "File does not exist: ftp.hydro.washington.edu/pub/blivneh/CONUS/Fluxes.asc.v.1.2.1915.2011.bz2/fluxes.canada.columbia/VIC_fluxes_Livneh_CONUSExt_v.1.2_2013_48.15625_-121.28125.bz2\n",
      "File does not exist: ftp.hydro.washington.edu/pub/blivneh/CONUS/Fluxes.asc.v.1.2.1915.2011.bz2/fluxes.canada.columbia/VIC_fluxes_Livneh_CONUSExt_v.1.2_2013_48.15625_-121.65625.bz2\n",
      "File does not exist: ftp.hydro.washington.edu/pub/blivneh/CONUS/Fluxes.asc.v.1.2.1915.2011.bz2/fluxes.canada.columbia/VIC_fluxes_Livneh_CONUSExt_v.1.2_2013_48.21875_-121.34375.bz2\n",
      "File does not exist: ftp.hydro.washington.edu/pub/blivneh/CONUS/Fluxes.asc.v.1.2.1915.2011.bz2/fluxes.canada.columbia/VIC_fluxes_Livneh_CONUSExt_v.1.2_2013_48.21875_-121.15625.bz2\n",
      "File does not exist: ftp.hydro.washington.edu/pub/blivneh/CONUS/Fluxes.asc.v.1.2.1915.2011.bz2/fluxes.canada.columbia/VIC_fluxes_Livneh_CONUSExt_v.1.2_2013_48.21875_-121.53125.bz2\n",
      "File does not exist: ftp.hydro.washington.edu/pub/blivneh/CONUS/Fluxes.asc.v.1.2.1915.2011.bz2/fluxes.canada.columbia/VIC_fluxes_Livneh_CONUSExt_v.1.2_2013_48.28125_-120.96875.bz2\n",
      "File does not exist: ftp.hydro.washington.edu/pub/blivneh/CONUS/Fluxes.asc.v.1.2.1915.2011.bz2/fluxes.canada.columbia/VIC_fluxes_Livneh_CONUSExt_v.1.2_2013_48.15625_-121.15625.bz2\n",
      "File does not exist: ftp.hydro.washington.edu/pub/blivneh/CONUS/Fluxes.asc.v.1.2.1915.2011.bz2/fluxes.canada.columbia/VIC_fluxes_Livneh_CONUSExt_v.1.2_2013_48.15625_-120.96875.bz2\n",
      "File does not exist: ftp.hydro.washington.edu/pub/blivneh/CONUS/Fluxes.asc.v.1.2.1915.2011.bz2/fluxes.canada.columbia/VIC_fluxes_Livneh_CONUSExt_v.1.2_2013_48.15625_-121.53125.bz2\n",
      "File does not exist: ftp.hydro.washington.edu/pub/blivneh/CONUS/Fluxes.asc.v.1.2.1915.2011.bz2/fluxes.canada.columbia/VIC_fluxes_Livneh_CONUSExt_v.1.2_2013_48.21875_-121.03125.bz2\n",
      "File does not exist: ftp.hydro.washington.edu/pub/blivneh/CONUS/Fluxes.asc.v.1.2.1915.2011.bz2/fluxes.canada.columbia/VIC_fluxes_Livneh_CONUSExt_v.1.2_2013_48.15625_-121.71875.bz2\n",
      "File does not exist: ftp.hydro.washington.edu/pub/blivneh/CONUS/Fluxes.asc.v.1.2.1915.2011.bz2/fluxes.canada.columbia/VIC_fluxes_Livneh_CONUSExt_v.1.2_2013_48.21875_-121.21875.bz2\n",
      "File does not exist: ftp.hydro.washington.edu/pub/blivneh/CONUS/Fluxes.asc.v.1.2.1915.2011.bz2/fluxes.canada.columbia/VIC_fluxes_Livneh_CONUSExt_v.1.2_2013_48.15625_-121.34375.bz2\n",
      "File does not exist: ftp.hydro.washington.edu/pub/blivneh/CONUS/Fluxes.asc.v.1.2.1915.2011.bz2/fluxes.canada.columbia/VIC_fluxes_Livneh_CONUSExt_v.1.2_2013_48.21875_-121.40625.bz2\n",
      "File does not exist: ftp.hydro.washington.edu/pub/blivneh/CONUS/Fluxes.asc.v.1.2.1915.2011.bz2/fluxes.canada.columbia/VIC_fluxes_Livneh_CONUSExt_v.1.2_2013_48.21875_-121.59375.bz2\n",
      "File does not exist: ftp.hydro.washington.edu/pub/blivneh/CONUS/Fluxes.asc.v.1.2.1915.2011.bz2/fluxes.canada.columbia/VIC_fluxes_Livneh_CONUSExt_v.1.2_2013_48.28125_-121.03125.bz2\n",
      "File does not exist: ftp.hydro.washington.edu/pub/blivneh/CONUS/Fluxes.asc.v.1.2.1915.2011.bz2/fluxes.canada.columbia/VIC_fluxes_Livneh_CONUSExt_v.1.2_2013_48.28125_-121.28125.bz2\n",
      "File does not exist: ftp.hydro.washington.edu/pub/blivneh/CONUS/Fluxes.asc.v.1.2.1915.2011.bz2/fluxes.canada.columbia/VIC_fluxes_Livneh_CONUSExt_v.1.2_2013_48.28125_-121.09375.bz2\n",
      "File does not exist: ftp.hydro.washington.edu/pub/blivneh/CONUS/Fluxes.asc.v.1.2.1915.2011.bz2/fluxes.canada.columbia/VIC_fluxes_Livneh_CONUSExt_v.1.2_2013_48.28125_-121.46875.bz2\n",
      "File does not exist: ftp.hydro.washington.edu/pub/blivneh/CONUS/Fluxes.asc.v.1.2.1915.2011.bz2/fluxes.canada.columbia/VIC_fluxes_Livneh_CONUSExt_v.1.2_2013_48.28125_-121.65625.bz2\n",
      "File does not exist: ftp.hydro.washington.edu/pub/blivneh/CONUS/Fluxes.asc.v.1.2.1915.2011.bz2/fluxes.canada.columbia/VIC_fluxes_Livneh_CONUSExt_v.1.2_2013_48.34375_-121.15625.bz2\n",
      "File does not exist: ftp.hydro.washington.edu/pub/blivneh/CONUS/Fluxes.asc.v.1.2.1915.2011.bz2/fluxes.canada.columbia/VIC_fluxes_Livneh_CONUSExt_v.1.2_2013_48.34375_-121.53125.bz2\n",
      "File does not exist: ftp.hydro.washington.edu/pub/blivneh/CONUS/Fluxes.asc.v.1.2.1915.2011.bz2/fluxes.canada.columbia/VIC_fluxes_Livneh_CONUSExt_v.1.2_2013_48.40625_-121.09375.bz2\n",
      "File does not exist: ftp.hydro.washington.edu/pub/blivneh/CONUS/Fluxes.asc.v.1.2.1915.2011.bz2/fluxes.canada.columbia/VIC_fluxes_Livneh_CONUSExt_v.1.2_2013_48.40625_-121.28125.bz2\n",
      "File does not exist: ftp.hydro.washington.edu/pub/blivneh/CONUS/Fluxes.asc.v.1.2.1915.2011.bz2/fluxes.canada.columbia/VIC_fluxes_Livneh_CONUSExt_v.1.2_2013_48.34375_-121.34375.bz2\n",
      "File does not exist: ftp.hydro.washington.edu/pub/blivneh/CONUS/Fluxes.asc.v.1.2.1915.2011.bz2/fluxes.canada.columbia/VIC_fluxes_Livneh_CONUSExt_v.1.2_2013_48.40625_-121.46875.bz2\n",
      "File does not exist: ftp.hydro.washington.edu/pub/blivneh/CONUS/Fluxes.asc.v.1.2.1915.2011.bz2/fluxes.canada.columbia/VIC_fluxes_Livneh_CONUSExt_v.1.2_2013_48.28125_-121.34375.bz2\n",
      "File does not exist: ftp.hydro.washington.edu/pub/blivneh/CONUS/Fluxes.asc.v.1.2.1915.2011.bz2/fluxes.canada.columbia/VIC_fluxes_Livneh_CONUSExt_v.1.2_2013_48.28125_-121.15625.bz2\n",
      "File does not exist: ftp.hydro.washington.edu/pub/blivneh/CONUS/Fluxes.asc.v.1.2.1915.2011.bz2/fluxes.canada.columbia/VIC_fluxes_Livneh_CONUSExt_v.1.2_2013_48.28125_-121.53125.bz2\n",
      "File does not exist: ftp.hydro.washington.edu/pub/blivneh/CONUS/Fluxes.asc.v.1.2.1915.2011.bz2/fluxes.canada.columbia/VIC_fluxes_Livneh_CONUSExt_v.1.2_2013_48.34375_-121.21875.bz2\n",
      "File does not exist: ftp.hydro.washington.edu/pub/blivneh/CONUS/Fluxes.asc.v.1.2.1915.2011.bz2/fluxes.canada.columbia/VIC_fluxes_Livneh_CONUSExt_v.1.2_2013_48.34375_-121.59375.bz2\n",
      "File does not exist: ftp.hydro.washington.edu/pub/blivneh/CONUS/Fluxes.asc.v.1.2.1915.2011.bz2/fluxes.canada.columbia/VIC_fluxes_Livneh_CONUSExt_v.1.2_2013_48.34375_-121.03125.bz2\n",
      "File does not exist: ftp.hydro.washington.edu/pub/blivneh/CONUS/Fluxes.asc.v.1.2.1915.2011.bz2/fluxes.canada.columbia/VIC_fluxes_Livneh_CONUSExt_v.1.2_2013_48.40625_-121.34375.bz2\n",
      "File does not exist: ftp.hydro.washington.edu/pub/blivneh/CONUS/Fluxes.asc.v.1.2.1915.2011.bz2/fluxes.canada.columbia/VIC_fluxes_Livneh_CONUSExt_v.1.2_2013_48.40625_-121.15625.bz2\n",
      "File does not exist: ftp.hydro.washington.edu/pub/blivneh/CONUS/Fluxes.asc.v.1.2.1915.2011.bz2/fluxes.canada.columbia/VIC_fluxes_Livneh_CONUSExt_v.1.2_2013_48.40625_-121.53125.bz2\n",
      "File does not exist: ftp.hydro.washington.edu/pub/blivneh/CONUS/Fluxes.asc.v.1.2.1915.2011.bz2/fluxes.canada.columbia/VIC_fluxes_Livneh_CONUSExt_v.1.2_2013_48.34375_-121.40625.bz2\n",
      "File does not exist: ftp.hydro.washington.edu/pub/blivneh/CONUS/Fluxes.asc.v.1.2.1915.2011.bz2/fluxes.canada.columbia/VIC_fluxes_Livneh_CONUSExt_v.1.2_2013_48.28125_-121.21875.bz2\n",
      "File does not exist: ftp.hydro.washington.edu/pub/blivneh/CONUS/Fluxes.asc.v.1.2.1915.2011.bz2/fluxes.canada.columbia/VIC_fluxes_Livneh_CONUSExt_v.1.2_2013_48.28125_-121.40625.bz2\n",
      "File does not exist: ftp.hydro.washington.edu/pub/blivneh/CONUS/Fluxes.asc.v.1.2.1915.2011.bz2/fluxes.canada.columbia/VIC_fluxes_Livneh_CONUSExt_v.1.2_2013_48.28125_-121.59375.bz2\n",
      "File does not exist: ftp.hydro.washington.edu/pub/blivneh/CONUS/Fluxes.asc.v.1.2.1915.2011.bz2/fluxes.canada.columbia/VIC_fluxes_Livneh_CONUSExt_v.1.2_2013_48.34375_-121.28125.bz2\n",
      "File does not exist: ftp.hydro.washington.edu/pub/blivneh/CONUS/Fluxes.asc.v.1.2.1915.2011.bz2/fluxes.canada.columbia/VIC_fluxes_Livneh_CONUSExt_v.1.2_2013_48.34375_-121.09375.bz2\n",
      "File does not exist: ftp.hydro.washington.edu/pub/blivneh/CONUS/Fluxes.asc.v.1.2.1915.2011.bz2/fluxes.canada.columbia/VIC_fluxes_Livneh_CONUSExt_v.1.2_2013_48.34375_-121.65625.bz2\n",
      "File does not exist: ftp.hydro.washington.edu/pub/blivneh/CONUS/Fluxes.asc.v.1.2.1915.2011.bz2/fluxes.canada.columbia/VIC_fluxes_Livneh_CONUSExt_v.1.2_2013_48.40625_-121.40625.bz2\n",
      "File does not exist: ftp.hydro.washington.edu/pub/blivneh/CONUS/Fluxes.asc.v.1.2.1915.2011.bz2/fluxes.canada.columbia/VIC_fluxes_Livneh_CONUSExt_v.1.2_2013_48.40625_-121.21875.bz2\n",
      "File does not exist: ftp.hydro.washington.edu/pub/blivneh/CONUS/Fluxes.asc.v.1.2.1915.2011.bz2/fluxes.canada.columbia/VIC_fluxes_Livneh_CONUSExt_v.1.2_2013_48.34375_-121.46875.bz2\n",
      "File does not exist: ftp.hydro.washington.edu/pub/blivneh/CONUS/Fluxes.asc.v.1.2.1915.2011.bz2/fluxes.canada.columbia/VIC_fluxes_Livneh_CONUSExt_v.1.2_2013_48.40625_-121.59375.bz2\n",
      "File does not exist: ftp.hydro.washington.edu/pub/blivneh/CONUS/Fluxes.asc.v.1.2.1915.2011.bz2/fluxes.canada.columbia/VIC_fluxes_Livneh_CONUSExt_v.1.2_2013_48.40625_-121.65625.bz2\n",
      "File does not exist: ftp.hydro.washington.edu/pub/blivneh/CONUS/Fluxes.asc.v.1.2.1915.2011.bz2/fluxes.canada.columbia/VIC_fluxes_Livneh_CONUSExt_v.1.2_2013_48.46875_-121.59375.bz2\n",
      "File does not exist: ftp.hydro.washington.edu/pub/blivneh/CONUS/Fluxes.asc.v.1.2.1915.2011.bz2/fluxes.canada.columbia/VIC_fluxes_Livneh_CONUSExt_v.1.2_2013_48.46875_-121.46875.bz2\n",
      "File does not exist: ftp.hydro.washington.edu/pub/blivneh/CONUS/Fluxes.asc.v.1.2.1915.2011.bz2/fluxes.canada.columbia/VIC_fluxes_Livneh_CONUSExt_v.1.2_2013_48.46875_-121.65625.bz2\n",
      "File does not exist: ftp.hydro.washington.edu/pub/blivneh/CONUS/Fluxes.asc.v.1.2.1915.2011.bz2/fluxes.canada.columbia/VIC_fluxes_Livneh_CONUSExt_v.1.2_2013_48.46875_-121.53125.bz2\n"
     ]
    }
   ],
   "source": [
    "#Daily_MET_1915_2011 = ogh.getClimateData_DailyMET_livneh2013(homedir, mappingfile)\n",
    "#Daily_WRFbc_1950_2010 = ogh.getClimateData_DailyMET_bcWRF(homedir, mappingfile)\n",
    "#Daily_WRFraw_1950_2010 = ogh.getClimateData_DailyMET_rawWRF(homedir, mappingfile)\n",
    "#Daily_LIVNEHbc_1915_2011 = ogh.getClimateData_DailyMET_bcLivneh2013(homedir, mappingfile)\n",
    "#Daily_VIC_1950_2013 = ogh.getClimateData_DailyVIC_USA_livneh2013(homedir, mappingfile)\n",
    "Daily_VIC_1950_2013 = ogh.getClimateData_DailyVIC_CAN_livneh2013(homedir, mappingfile)"
   ]
  },
  {
   "cell_type": "markdown",
   "metadata": {
    "collapsed": false,
    "scrolled": true
   },
   "source": [
    "### Get Daily Meteorologic Data  (edit to also download VIC fluxes)<br/> from Livneh et al. 2015 (1950-2013; North America extent) \n",
    "Run the next code block if your data is within the North America area and you want daily data 1950-2013. View the data extent from this HydroShare resource: Livneh, B. (2017). Gridded climatology locations (1/16th degree): North American extent, HydroShare,  http://www.hydroshare.org/resource/ef2d82bf960144b4bfb1bae6242bcc7f<br/>\n",
    "<br/>\n",
    "Please cite 2015 data using: <br/>\n",
    "Livneh B., T.J. Bohn, D.S. Pierce, F. Munoz-Ariola, B. Nijssen, R. Vose, D. Cayan, and L.D. Brekke, 2015: A spatially comprehensive, hydrometeorological data set for Mexico, the U.S., and southern Canada 1950-2013, Nature Scientific Data, 5:150042, doi:10.1038/sdata.2015.42."
   ]
  },
  {
   "cell_type": "code",
   "execution_count": 5,
   "metadata": {
    "collapsed": false
   },
   "outputs": [
    {
     "name": "stdout",
     "output_type": "stream",
     "text": [
      "VIC_fluxes_Livneh_CONUSExt_v.1.2_2013_47.96875_-121.28125 unzipped\n",
      "VIC_fluxes_Livneh_CONUSExt_v.1.2_2013_48.03125_-121.28125 unzipped\n",
      "VIC_fluxes_Livneh_CONUSExt_v.1.2_2013_48.03125_-121.09375 unzipped\n",
      "VIC_fluxes_Livneh_CONUSExt_v.1.2_2013_47.96875_-121.09375 unzipped\n",
      "VIC_fluxes_Livneh_CONUSExt_v.1.2_2013_47.96875_-121.46875 unzipped\n",
      "VIC_fluxes_Livneh_CONUSExt_v.1.2_2013_48.03125_-121.46875 unzipped\n",
      "VIC_fluxes_Livneh_CONUSExt_v.1.2_2013_48.09375_-121.21875 unzipped\n",
      "VIC_fluxes_Livneh_CONUSExt_v.1.2_2013_48.09375_-121.59375 unzipped\n",
      "VIC_fluxes_Livneh_CONUSExt_v.1.2_2013_48.09375_-121.40625 unzipped\n",
      "VIC_fluxes_Livneh_CONUSExt_v.1.2_2013_48.09375_-121.03125 unzipped\n",
      "VIC_fluxes_Livneh_CONUSExt_v.1.2_2013_47.96875_-121.34375 unzipped\n",
      "VIC_fluxes_Livneh_CONUSExt_v.1.2_2013_47.96875_-121.15625 unzipped\n",
      "VIC_fluxes_Livneh_CONUSExt_v.1.2_2013_48.03125_-121.15625 unzipped\n",
      "VIC_fluxes_Livneh_CONUSExt_v.1.2_2013_48.03125_-121.34375 unzipped\n",
      "VIC_fluxes_Livneh_CONUSExt_v.1.2_2013_48.09375_-121.65625 unzipped\n",
      "VIC_fluxes_Livneh_CONUSExt_v.1.2_2013_48.09375_-120.90625 unzipped\n",
      "VIC_fluxes_Livneh_CONUSExt_v.1.2_2013_47.96875_-121.53125 unzipped\n",
      "VIC_fluxes_Livneh_CONUSExt_v.1.2_2013_48.09375_-121.28125 unzipped\n",
      "VIC_fluxes_Livneh_CONUSExt_v.1.2_2013_48.09375_-121.09375 unzipped\n",
      "VIC_fluxes_Livneh_CONUSExt_v.1.2_2013_48.09375_-121.46875 unzipped\n",
      "VIC_fluxes_Livneh_CONUSExt_v.1.2_2013_48.09375_-120.96875 unzipped\n",
      "VIC_fluxes_Livneh_CONUSExt_v.1.2_2013_47.96875_-121.21875 unzipped\n",
      "VIC_fluxes_Livneh_CONUSExt_v.1.2_2013_48.03125_-121.21875 unzipped\n",
      "VIC_fluxes_Livneh_CONUSExt_v.1.2_2013_47.96875_-121.40625 unzipped\n",
      "VIC_fluxes_Livneh_CONUSExt_v.1.2_2013_48.03125_-121.40625 unzipped\n",
      "VIC_fluxes_Livneh_CONUSExt_v.1.2_2013_48.09375_-121.71875 unzipped\n",
      "VIC_fluxes_Livneh_CONUSExt_v.1.2_2013_48.03125_-121.03125 unzipped\n",
      "VIC_fluxes_Livneh_CONUSExt_v.1.2_2013_48.09375_-121.15625 unzipped\n",
      "VIC_fluxes_Livneh_CONUSExt_v.1.2_2013_48.09375_-121.34375 unzipped\n",
      "VIC_fluxes_Livneh_CONUSExt_v.1.2_2013_48.09375_-121.53125 unzipped\n",
      "VIC_fluxes_Livneh_CONUSExt_v.1.2_2013_48.15625_-120.84375 unzipped\n",
      "VIC_fluxes_Livneh_CONUSExt_v.1.2_2013_48.15625_-121.03125 unzipped\n",
      "VIC_fluxes_Livneh_CONUSExt_v.1.2_2013_48.15625_-121.21875 unzipped\n",
      "VIC_fluxes_Livneh_CONUSExt_v.1.2_2013_48.21875_-121.09375 unzipped\n",
      "VIC_fluxes_Livneh_CONUSExt_v.1.2_2013_48.15625_-121.59375 unzipped\n",
      "VIC_fluxes_Livneh_CONUSExt_v.1.2_2013_48.15625_-121.40625 unzipped\n",
      "VIC_fluxes_Livneh_CONUSExt_v.1.2_2013_48.21875_-121.28125 unzipped\n",
      "VIC_fluxes_Livneh_CONUSExt_v.1.2_2013_48.21875_-121.46875 unzipped\n",
      "VIC_fluxes_Livneh_CONUSExt_v.1.2_2013_48.21875_-120.90625 unzipped\n",
      "VIC_fluxes_Livneh_CONUSExt_v.1.2_2013_48.21875_-121.65625 unzipped\n",
      "VIC_fluxes_Livneh_CONUSExt_v.1.2_2013_48.15625_-120.90625 unzipped\n",
      "VIC_fluxes_Livneh_CONUSExt_v.1.2_2013_48.15625_-121.09375 unzipped\n",
      "VIC_fluxes_Livneh_CONUSExt_v.1.2_2013_48.15625_-121.28125 unzipped\n",
      "VIC_fluxes_Livneh_CONUSExt_v.1.2_2013_48.15625_-121.65625 unzipped\n",
      "VIC_fluxes_Livneh_CONUSExt_v.1.2_2013_48.21875_-121.15625 unzipped\n",
      "VIC_fluxes_Livneh_CONUSExt_v.1.2_2013_48.21875_-121.53125 unzipped\n",
      "VIC_fluxes_Livneh_CONUSExt_v.1.2_2013_48.15625_-121.46875 unzipped\n",
      "VIC_fluxes_Livneh_CONUSExt_v.1.2_2013_48.21875_-120.96875 unzipped\n",
      "VIC_fluxes_Livneh_CONUSExt_v.1.2_2013_48.28125_-120.96875 unzipped\n",
      "VIC_fluxes_Livneh_CONUSExt_v.1.2_2013_48.21875_-121.34375 unzipped\n",
      "VIC_fluxes_Livneh_CONUSExt_v.1.2_2013_48.15625_-120.96875 unzipped\n",
      "VIC_fluxes_Livneh_CONUSExt_v.1.2_2013_48.15625_-121.15625 unzipped\n",
      "VIC_fluxes_Livneh_CONUSExt_v.1.2_2013_48.15625_-121.34375 unzipped\n",
      "VIC_fluxes_Livneh_CONUSExt_v.1.2_2013_48.21875_-121.21875 unzipped\n",
      "VIC_fluxes_Livneh_CONUSExt_v.1.2_2013_48.15625_-121.71875 unzipped\n",
      "VIC_fluxes_Livneh_CONUSExt_v.1.2_2013_48.15625_-121.53125 unzipped\n",
      "VIC_fluxes_Livneh_CONUSExt_v.1.2_2013_48.21875_-121.03125 unzipped\n",
      "VIC_fluxes_Livneh_CONUSExt_v.1.2_2013_48.21875_-121.40625 unzipped\n",
      "VIC_fluxes_Livneh_CONUSExt_v.1.2_2013_48.28125_-121.03125 unzipped\n",
      "VIC_fluxes_Livneh_CONUSExt_v.1.2_2013_48.21875_-121.59375 unzipped\n",
      "VIC_fluxes_Livneh_CONUSExt_v.1.2_2013_48.28125_-121.09375 unzipped\n",
      "VIC_fluxes_Livneh_CONUSExt_v.1.2_2013_48.28125_-121.28125 unzipped\n",
      "VIC_fluxes_Livneh_CONUSExt_v.1.2_2013_48.28125_-121.46875 unzipped\n",
      "VIC_fluxes_Livneh_CONUSExt_v.1.2_2013_48.28125_-121.65625 unzipped\n",
      "VIC_fluxes_Livneh_CONUSExt_v.1.2_2013_48.34375_-121.15625 unzipped\n",
      "VIC_fluxes_Livneh_CONUSExt_v.1.2_2013_48.34375_-121.34375 unzipped\n",
      "VIC_fluxes_Livneh_CONUSExt_v.1.2_2013_48.34375_-121.53125 unzipped\n",
      "VIC_fluxes_Livneh_CONUSExt_v.1.2_2013_48.40625_-121.09375 unzipped\n",
      "VIC_fluxes_Livneh_CONUSExt_v.1.2_2013_48.40625_-121.28125 unzipped\n",
      "VIC_fluxes_Livneh_CONUSExt_v.1.2_2013_48.40625_-121.46875 unzipped\n",
      "VIC_fluxes_Livneh_CONUSExt_v.1.2_2013_48.28125_-121.15625 unzipped\n",
      "VIC_fluxes_Livneh_CONUSExt_v.1.2_2013_48.28125_-121.53125 unzipped\n",
      "VIC_fluxes_Livneh_CONUSExt_v.1.2_2013_48.28125_-121.34375 unzipped\n",
      "VIC_fluxes_Livneh_CONUSExt_v.1.2_2013_48.34375_-121.21875 unzipped\n",
      "VIC_fluxes_Livneh_CONUSExt_v.1.2_2013_48.34375_-121.03125 unzipped\n",
      "VIC_fluxes_Livneh_CONUSExt_v.1.2_2013_48.34375_-121.59375 unzipped\n",
      "VIC_fluxes_Livneh_CONUSExt_v.1.2_2013_48.34375_-121.40625 unzipped\n",
      "VIC_fluxes_Livneh_CONUSExt_v.1.2_2013_48.40625_-121.15625 unzipped\n",
      "VIC_fluxes_Livneh_CONUSExt_v.1.2_2013_48.40625_-121.34375 unzipped\n",
      "VIC_fluxes_Livneh_CONUSExt_v.1.2_2013_48.40625_-121.53125 unzipped\n",
      "VIC_fluxes_Livneh_CONUSExt_v.1.2_2013_48.28125_-121.21875 unzipped\n",
      "VIC_fluxes_Livneh_CONUSExt_v.1.2_2013_48.34375_-121.09375 unzipped\n",
      "VIC_fluxes_Livneh_CONUSExt_v.1.2_2013_48.28125_-121.59375 unzipped\n",
      "VIC_fluxes_Livneh_CONUSExt_v.1.2_2013_48.34375_-121.28125 unzipped\n",
      "VIC_fluxes_Livneh_CONUSExt_v.1.2_2013_48.34375_-121.46875 unzipped\n",
      "VIC_fluxes_Livneh_CONUSExt_v.1.2_2013_48.28125_-121.40625 unzipped\n",
      "VIC_fluxes_Livneh_CONUSExt_v.1.2_2013_48.34375_-121.65625 unzipped\n",
      "VIC_fluxes_Livneh_CONUSExt_v.1.2_2013_48.40625_-121.21875 unzipped\n",
      "VIC_fluxes_Livneh_CONUSExt_v.1.2_2013_48.40625_-121.40625 unzipped\n",
      "VIC_fluxes_Livneh_CONUSExt_v.1.2_2013_48.40625_-121.59375 unzipped\n",
      "VIC_fluxes_Livneh_CONUSExt_v.1.2_2013_48.40625_-121.65625 unzipped\n",
      "VIC_fluxes_Livneh_CONUSExt_v.1.2_2013_48.46875_-121.59375 unzipped\n",
      "VIC_fluxes_Livneh_CONUSExt_v.1.2_2013_48.46875_-121.46875 unzipped\n",
      "VIC_fluxes_Livneh_CONUSExt_v.1.2_2013_48.46875_-121.65625 unzipped\n",
      "VIC_fluxes_Livneh_CONUSExt_v.1.2_2013_48.46875_-121.53125 unzipped\n"
     ]
    }
   ],
   "source": [
    "#Daily_MET_1950_2013 = ogm.getClimateData_DailyMET_Livneh2015(homedir, mappingfile)\n",
    "#Daily_VIC_1950_2013 = ogm.getClimateData_DailyVIC_livneh2015(homedir, mappingfile)\n"
   ]
  },
  {
   "cell_type": "markdown",
   "metadata": {},
   "source": [
    "## 4. Save the data into a new HydroShare generic resource\n",
    "<a name=\"creation\"></a>\n",
    "\n",
    "Using the `hs_utils` library, the results of the Geoprocessing steps above can be saved back into HydroShare.  First, define all of the required metadata for resource creation, i.e. *title*, *abstract*, *keywords*, *content files*.  In addition, we must define the type of resource that will be created, in this case *genericresource*.  \n",
    "\n",
    "***Note:*** Make sure you save the notebook at this point, but note that changes only exist on the version on the JupyterHub server.  To save this Notebook back to HydroShare, it must be uploaded (using code in this notebook or manually to the website). \n"
   ]
  },
  {
   "cell_type": "markdown",
   "metadata": {},
   "source": [
    "#### Save Daily Meteorologic Data (2013)\n",
    "Create a list of files with their paths to be added to the HydroShare resource. For each list of files downloaded onto the server folder, move to a new HydroShare Generic Resource on the iRods server. "
   ]
  },
  {
   "cell_type": "code",
   "execution_count": null,
   "metadata": {
    "collapsed": false
   },
   "outputs": [],
   "source": [
    "#if 'Daily_MET_1915_2011' not in locals():\n",
    "#    Daily_MET_1915_2011 = ''.join([homedir, 'livneh2013/', 'Daily_MET_1915_2011/'])\n",
    "files = ogm.compileContentfiles(Daily_MET_1915_2011)\n",
    "#print files[0]  #print example files    "
   ]
  },
  {
   "cell_type": "code",
   "execution_count": null,
   "metadata": {
    "collapsed": false,
    "scrolled": false
   },
   "outputs": [],
   "source": [
    "title = 'Daily Obserational Hydrometeorology data set 2013: Sauk-Suiattle Extent' # title for the new resource\n",
    "abstract = 'This a download of gridded climate data from Livneh B., E.A. Rosenberg, C. Lin, B. Nijssen, V. Mishra, K.M. Andreadis, E.P. Maurer, and D.P. Lettenmaier, 2013: A Long-Term Hydrologically Based Dataset of Land Surface Fluxes and States for the Conterminous United States: Update and Extensions, Journal of Climate, 26, 9384–9392.' # abstract for the new resource\n",
    "keywords = ['Livneh', 'Hydrometeorology','Sauk'] \n",
    "rtype = 'genericresource'          # Hydroshare resource type\n",
    "resource_id = hs.createHydroShareResource(abstract, \n",
    "                                          title, \n",
    "                                          derivedFromId='14f0a6619c6b45cc90d1f8cabc4129af',#GIS point shapefile extent resource\n",
    "                                          keywords=keywords, \n",
    "                                          resource_type=rtype, \n",
    "                                          content_files=files, \n",
    "                                          public=False)"
   ]
  },
  {
   "cell_type": "markdown",
   "metadata": {},
   "source": [
    "#### Save Daily Meteorologic Data (2015)\n",
    "Create a list of files with their paths to be added to the HydroShare resource. For each list of files downloaded onto the server folder, move to a new HydroShare Generic Resource on the iRods server. "
   ]
  },
  {
   "cell_type": "code",
   "execution_count": null,
   "metadata": {
    "collapsed": false
   },
   "outputs": [],
   "source": [
    "if 'Daily_MET_1950_2013' not in locals():\n",
    "    Daily_MET_1950_2013 = ''.join([homedir, 'livneh2016/', 'Daily_MET_1950_2013/'])\n",
    "    files = ogm.compileContentfiles(Daily_MET_1950_2013)\n",
    "print Daily_MET_1950_2013"
   ]
  },
  {
   "cell_type": "code",
   "execution_count": null,
   "metadata": {
    "collapsed": true
   },
   "outputs": [],
   "source": [
    "title = 'Daily Obserational Hydrometeorology data set 2015: Sauk-Suiattle Extent' # title for the new resource\n",
    "abstract = 'This a download of gridded climate data from Livneh B., T.J. Bohn, D.S. Pierce, F. Munoz-Ariola, B. Nijssen, R. Vose, D. Cayan, and L.D. Brekke, 2015: A spatially comprehensive, hydrometeorological data set for Mexico, the U.S., and southern Canada 1950-2013, Nature Scientific Data, 5:150042, doi:10.1038/sdata.2015.42.' # abstract for the new resource\n",
    "keywords = ['Livneh', 'Hydrometeorology','Sauk'] \n",
    "rtype = 'genericresource'          # Hydroshare resource type\n",
    "resource_id = hs.createHydroShareResource(abstract, \n",
    "                                          title, \n",
    "                                          derivedFromId='ef2d82bf960144b4bfb1bae6242bcc7f',#GIS point shapefile extent resource\n",
    "                                          keywords=keywords, \n",
    "                                          resource_type=rtype, \n",
    "                                          content_files=files, \n",
    "                                          public=False)"
   ]
  },
  {
   "cell_type": "markdown",
   "metadata": {},
   "source": [
    "Edit and Repeat steps above to save VIC fluxes to new HydroShare resources."
   ]
  }
 ],
 "metadata": {
  "anaconda-cloud": {},
  "kernelspec": {
   "display_name": "Python 2",
   "language": "python",
   "name": "python2"
  },
  "language_info": {
   "codemirror_mode": {
    "name": "ipython",
    "version": 2
   },
   "file_extension": ".py",
   "mimetype": "text/x-python",
   "name": "python",
   "nbconvert_exporter": "python",
   "pygments_lexer": "ipython2",
   "version": "2.7.12"
  }
 },
 "nbformat": 4,
 "nbformat_minor": 0
}
