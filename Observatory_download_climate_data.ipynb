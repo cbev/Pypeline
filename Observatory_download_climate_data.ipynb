{
 "cells": [
  {
   "cell_type": "markdown",
   "metadata": {},
   "source": [
    "\n",
    "# Watershed Dynamics Model \n",
    "\n",
    "<img src=\"https://www.washington.edu/brand/files/2014/09/W-Logo_Purple_Hex.png\" style=\"float:right;width:300px;padding:20px\">   \n",
    "\n",
    "Download gridded climate data in the Sauk-Suiattle watershed from a HydroShare Observatory. <br />\n",
    "<br />\n",
    "This Jupyter Notebook contains selected model components <br /> \n",
    "of the Watershed Dynamics model identified with a bullet  <br /> \n",
    "<br /> \n",
    "* Download daily 1/16 degree gridded meteorology data, <br /> \n",
    "* Download daily 1/16 degree VIC fluxes.<br /> \n",
    "* Save data to a new HydroShare resource, <br /> "
   ]
  },
  {
   "cell_type": "markdown",
   "metadata": {},
   "source": [
    "##  HydroShare Setup and Preparation\n",
    "\n",
    "To run this notebook, we must import several libaries.\n",
    "The hs_utils library provides functions for interacting with HydroShare, including resource querying, dowloading and creation. "
   ]
  },
  {
   "cell_type": "code",
   "execution_count": 1,
   "metadata": {},
   "outputs": [
    {
     "name": "stdout",
     "output_type": "stream",
     "text": [
      "Version 5/1/17\n"
     ]
    }
   ],
   "source": [
    "import os\n",
    "from utilities import hydroshare \n",
    "from datetime import datetime, timedelta\n",
    "import pytz\n",
    "import matplotlib.pyplot as plt\n",
    "#import seaborn\n",
    "import numpy as np\n",
    "import pandas as pd\n",
    "import shutil\n",
    "import observatory_gridded_hydromet as ogh"
   ]
  },
  {
   "cell_type": "markdown",
   "metadata": {},
   "source": [
    "Next we need to establish a secure connection with HydroShare. This is done by simply instantiating the hydroshare class that is defined within hs_utils. In addition to connecting with HydroShare, this command also sets and prints environment variables for several parameters that will be useful for saving your work back to HydroShare. "
   ]
  },
  {
   "cell_type": "code",
   "execution_count": 2,
   "metadata": {},
   "outputs": [
    {
     "name": "stdout",
     "output_type": "stream",
     "text": [
      "Adding the following system variables:\n",
      "   HS_USR_NAME = ChristinaBandaragoda\n",
      "   HS_RES_ID = 0f4efd1cedb64a5a9fa90cf1f248e22f\n",
      "   HS_RES_TYPE = genericresource\n",
      "   JUPYTER_HUB_IP = jupyter.uwrl.usu.edu\n",
      "\n",
      "These can be accessed using the following command: \n",
      "   os.environ[key]\n",
      "\n",
      "   (e.g.)\n",
      "   os.environ[\"HS_USR_NAME\"]  => ChristinaBandaragoda\n",
      "Successfully established a connection with HydroShare\n",
      "This is where the HydroShare resource you just downloaded is temporarily stored on the JupyterHub server:/home/jovyan/work/notebooks/data/0183ec4000f644fa9378cf28cfe5c2e2/0183ec4000f644fa9378cf28cfe5c2e2/data/contents\n"
     ]
    }
   ],
   "source": [
    "hs=hydroshare.hydroshare()\n",
    "# Create object to map the home directory\n",
    "homedir = os.getcwd()\n",
    "\n",
    "print 'This is where the HydroShare resource you just downloaded is temporarily stored on the JupyterHub server:' + homedir\n",
    "\n",
    "# if the working directory is not starting at homedir, set it to homedir\n",
    "if os.getcwd() != homedir:\n",
    "    os.chdir(homedir)"
   ]
  },
  {
   "cell_type": "markdown",
   "metadata": {},
   "source": [
    "If you are curious about where the data is located, click on the Jupyter Notebook dashboard icon to return to the File System view.  The homedir directory location printed above is where you can find the data and contents.  At the end of this work session, you can migrate this data on the JupyterHub server to the HydroShare iRods server as a Generic Resource. "
   ]
  },
  {
   "cell_type": "markdown",
   "metadata": {},
   "source": [
    "## 2. Get list of gridded climate points for the watershed\n",
    "\n",
    "Retrieve a list of grid points and configuration file from the downloaded HydroShare resource.<br />  Identify the location and name of the 'mappingfile' which includes a minimum of two columns 'LAT' and 'LONG_'.\n"
   ]
  },
  {
   "cell_type": "code",
   "execution_count": null,
   "metadata": {},
   "outputs": [],
   "source": [
    "hs.getResourceFromHydroShare('d90289409f904017831d308642c1eb30')\n",
    "mappingfile = hs.content[\"Sauk_94CentroidVICpoints_UTM.csv\"]\n",
    "print mappingfile"
   ]
  },
  {
   "cell_type": "markdown",
   "metadata": {},
   "source": [
    " ## 3. Download Daily Obserational Hydrometeorology gridded data"
   ]
  },
  {
   "cell_type": "markdown",
   "metadata": {},
   "source": [
    "\n",
    "### Get Daily Meteorologic Data   (edit to also download VIC fluxes)<br/> from Livneh et al. 2013 (1915-2011; CONUS extent) \n",
    "Run the next code block if your data is within the Continental United States and you want daily data 1915-2011. \n",
    "View data extent at Livneh, B. (2017). Gridded climatology locations (1/16th degree): Continental United States extent, HydroShare, http://www.hydroshare.org/resource/14f0a6619c6b45cc90d1f8cabc4129af\n",
    "<br/><br/>\n",
    "Please cite 2013 data using: <br/>\n",
    "Livneh B., E.A. Rosenberg, C. Lin, B. Nijssen, V. Mishra, K.M. Andreadis, E.P. Maurer, and D.P. Lettenmaier, 2013: A Long-Term Hydrologically Based Dataset of Land Surface Fluxes and States for the Conterminous United States: Update and Extensions, Journal of Climate, 26, 9384–9392."
   ]
  },
  {
   "cell_type": "code",
   "execution_count": null,
   "metadata": {},
   "outputs": [],
   "source": [
    "Daily_MET_1915_2011 = ogh.getClimateData_DailyMET_livneh2013(homedir, mappingfile)\n",
    "#Daily_VIC_1950_2013 = ogh.getClimateData_DailyVIC_USA_livneh2013(homedir, mappingfile)\n",
    "#Daily_VIC_1950_2013 = ogh.getClimateData_DailyVIC_CAN_livneh2013(homedir, mappingfile)\n"
   ]
  },
  {
   "cell_type": "markdown",
   "metadata": {},
   "source": [
    "Set directory name and corresponding date time series for Livneh et al., 2013 data for 1915-2011"
   ]
  },
  {
   "cell_type": "code",
   "execution_count": 3,
   "metadata": {},
   "outputs": [
    {
     "name": "stdout",
     "output_type": "stream",
     "text": [
      "/home/jovyan/work/notebooks/data/0183ec4000f644fa9378cf28cfe5c2e2/0183ec4000f644fa9378cf28cfe5c2e2/data/contents/livneh2013/Daily_MET_1915_2011\n",
      "       Date  Day  Month  Year\n",
      "0  1/1/1915    1      1  1915\n",
      "1  1/2/1915    2      1  1915\n",
      "2  1/3/1915    3      1  1915\n",
      "3  1/4/1915    4      1  1915\n",
      "4  1/5/1915    5      1  1915\n"
     ]
    }
   ],
   "source": [
    "data_dir=os.path.join(homedir+ '/livneh2013/Daily_MET_1915_2011')\n",
    "month = pd.read_table(os.path.join(homedir, 'month_Livneh1915_2011.csv'), sep=',', header='infer')\n",
    "print(data_dir)\n",
    "print(month.head())"
   ]
  },
  {
   "cell_type": "markdown",
   "metadata": {},
   "source": [
    "### Get bias corrected Livneh et al. 2013 data (extent??) from UW Climate Impacts Group"
   ]
  },
  {
   "cell_type": "code",
   "execution_count": null,
   "metadata": {
    "collapsed": true
   },
   "outputs": [],
   "source": [
    "#Daily_LIVNEHbc_1915_2011 = ogh.getClimateData_DailyMET_bcLivneh2013(homedir, mappingfile)"
   ]
  },
  {
   "cell_type": "markdown",
   "metadata": {
    "scrolled": true
   },
   "source": [
    "### Get Daily Meteorologic Data  (edit to also download VIC fluxes)<br/> from Livneh et al. 2015 (1950-2013; North America extent) \n",
    "Run the next code block if your data is within the North America area and you want daily data 1950-2013. View the data extent from this HydroShare resource: Livneh, B. (2017). Gridded climatology locations (1/16th degree): North American extent, HydroShare,  http://www.hydroshare.org/resource/ef2d82bf960144b4bfb1bae6242bcc7f<br/>\n",
    "<br/>\n",
    "Please cite 2015 data using: <br/>\n",
    "Livneh B., T.J. Bohn, D.S. Pierce, F. Munoz-Ariola, B. Nijssen, R. Vose, D. Cayan, and L.D. Brekke, 2015: A spatially comprehensive, hydrometeorological data set for Mexico, the U.S., and southern Canada 1950-2013, Nature Scientific Data, 5:150042, doi:10.1038/sdata.2015.42."
   ]
  },
  {
   "cell_type": "code",
   "execution_count": null,
   "metadata": {
    "collapsed": true
   },
   "outputs": [],
   "source": [
    "#Daily_MET_1950_2013 = ogh.getClimateData_DailyMET_Livneh2015(homedir, mappingfile)\n",
    "#Daily_VIC_1950_2013 = ogh.getClimateData_DailyVIC_livneh2015(homedir, mappingfile)\n"
   ]
  },
  {
   "cell_type": "markdown",
   "metadata": {},
   "source": [
    "### Get Daily Weather Research and Forecasting (WRF) for the Pacific Northwest\n",
    "<br/>\n",
    "Please cite 2014 data using: <br/>\n",
    "Salathé, EP, AF Hamlet, CF Mass M Stumbaugh, S-Y Lee, R Steed: 2017. Estimates of 21st Century Flood Risk in the Pacific Northwest Based on Regional Scale Climate Model Simulations.  J. Hydrometeorology. DOI: 10.1175/JHM-D-13-0137.1"
   ]
  },
  {
   "cell_type": "code",
   "execution_count": null,
   "metadata": {
    "collapsed": true
   },
   "outputs": [],
   "source": [
    "#Daily_WRFbc_1950_2010 = ogh.getClimateData_DailyMET_bcWRF(homedir, mappingfile)\n",
    "#Daily_WRFraw_1950_2010 = ogh.getClimateData_DailyMET_rawWRF(homedir, mappingfile)"
   ]
  },
  {
   "cell_type": "markdown",
   "metadata": {},
   "source": [
    "Set directory name and corresponding date time series for WRF or Climate Impacts Group 1950-2010 datasets"
   ]
  },
  {
   "cell_type": "code",
   "execution_count": null,
   "metadata": {},
   "outputs": [],
   "source": [
    "#data_dir=os.path.join(homedir+ '/Salathe2014/WWA_1950_2010/raw')\n",
    "#month = pd.read_table(os.path.join(homedir, 'month_WRF_CIG_1950_2010.csv'), sep=',', header='infer')\n",
    "#print data_dir\n",
    "#print month.head()"
   ]
  },
  {
   "cell_type": "markdown",
   "metadata": {},
   "source": [
    "## 4. Change Temperature time series using Elevation and Lapse Rates"
   ]
  },
  {
   "cell_type": "markdown",
   "metadata": {},
   "source": [
    "## Define temperature correction for low, mid and high elevation ranges"
   ]
  },
  {
   "cell_type": "code",
   "execution_count": 8,
   "metadata": {},
   "outputs": [],
   "source": [
    "import FixElevationLapseRate_monthlyLapse_METinput as ft\n",
    "#basefile='data_48.40625_-121.59375'\n",
    "basefile='Meteorology_Livneh_CONUSExt_v.1.2_2013_48.40625_-121.59375'\n",
    "basefile_elev=406"
   ]
  },
  {
   "cell_type": "markdown",
   "metadata": {},
   "source": [
    "Test 1. Correct Livneh et al. 2013 Tmin and Tmax using 2015-2016 observed lapse rates on the North Fork Mt. Baker"
   ]
  },
  {
   "cell_type": "code",
   "execution_count": 11,
   "metadata": {},
   "outputs": [],
   "source": [
    "output_dir='fixTemp_MtBaker_MonthlyObs'\n",
    "TcorrLow={10:-3.4,\n",
    "       11:-3.4,\n",
    "       12:-3.52,\n",
    "       1:-1.16,\n",
    "       2:-0.72,\n",
    "       3:-2.05,\n",
    "       4:-0.96,\n",
    "       5:-2.58,\n",
    "       6:-2.72,\n",
    "       7:-3.71,\n",
    "       8:-3.39,\n",
    "       9:-3.39}\n",
    "\n",
    "TcorrMid={10:-7.5,\n",
    "       11:-7,\n",
    "       12:-5.33,\n",
    "       1:-4.93,\n",
    "       2:-4.75,\n",
    "       3:-5.89,\n",
    "       4:-5.21,\n",
    "       5:-6.70,\n",
    "       6:-6.38,\n",
    "       7:-5.23,\n",
    "       8:-3.98,\n",
    "       9:-5.33}\n",
    "\n",
    "TcorrHigh={10:-7.5,\n",
    "       11:-7,\n",
    "       12:-6.45,\n",
    "       1:-5.11,\n",
    "       2:-6.71,\n",
    "       3:-8.12,\n",
    "       4:-8.21,\n",
    "       5:-6.51,\n",
    "       6:-7.54,\n",
    "       7:-8.19,\n",
    "       8:-8.15,\n",
    "       9:-8.0}\n"
   ]
  },
  {
   "cell_type": "code",
   "execution_count": 12,
   "metadata": {},
   "outputs": [
    {
     "name": "stdout",
     "output_type": "stream",
     "text": [
      "This will be worth waiting for...\n",
      "Look in the folder below to see the new data\n",
      "/home/jovyan/work/notebooks/data/0183ec4000f644fa9378cf28cfe5c2e2/0183ec4000f644fa9378cf28cfe5c2e2/data/contents/livneh2013/Daily_MET_1915_2011/fixTemp_MtBaker_MonthlyObs\n",
      "\n",
      "mission complete.\n",
      "this device will now self-destruct.\n",
      "just kidding.\n"
     ]
    }
   ],
   "source": [
    "ft.FixElevationLapseRate_monthlyLapse_METinput(homedir,data_dir,month,TcorrLow,TcorrMid, TcorrHigh,basefile,basefile_elev,output_dir)"
   ]
  },
  {
   "cell_type": "markdown",
   "metadata": {},
   "source": [
    "Test 2. Correct Livneh et al. 2013 Tmin and Tmax using Minder et al., 2011 annual average observed lapse rates for the North Cascasdes"
   ]
  },
  {
   "cell_type": "code",
   "execution_count": 14,
   "metadata": {
    "collapsed": true
   },
   "outputs": [],
   "source": [
    "output_dir='fixTemp_NorthCascades_AnnualObs'\n",
    "TcorrLow={10:-4.8,11:-4.8, 12:-4.8,1:-4.8,2:-4.8,3:-4.8,4:-4.8,5:-4.8,6:-4.8,7:-4.8,8:-4.8,9:-4.8}\n",
    "TcorrMid={10:-4.8,11:-4.8, 12:-4.8,1:-4.8,2:-4.8,3:-4.8,4:-4.8,5:-4.8,6:-4.8,7:-4.8,8:-4.8,9:-4.8}\n",
    "TcorrHigh={10:-4.8,11:-4.8, 12:-4.8,1:-4.8,2:-4.8,3:-4.8,4:-4.8,5:-4.8,6:-4.8,7:-4.8,8:-4.8,9:-4.8}"
   ]
  },
  {
   "cell_type": "code",
   "execution_count": 15,
   "metadata": {},
   "outputs": [
    {
     "name": "stdout",
     "output_type": "stream",
     "text": [
      "This will be worth waiting for...\n",
      "Look in the folder below to see the new data\n",
      "/home/jovyan/work/notebooks/data/0183ec4000f644fa9378cf28cfe5c2e2/0183ec4000f644fa9378cf28cfe5c2e2/data/contents/livneh2013/Daily_MET_1915_2011/fixTemp_NorthCascades_AnnualObs\n",
      "\n",
      "mission complete.\n",
      "this device will now self-destruct.\n",
      "just kidding.\n"
     ]
    }
   ],
   "source": [
    "ft.FixElevationLapseRate_monthlyLapse_METinput(homedir,data_dir,month,TcorrLow,TcorrMid, TcorrHigh,basefile,basefile_elev,output_dir)"
   ]
  },
  {
   "cell_type": "markdown",
   "metadata": {},
   "source": [
    "Test 3. Test consistency between Livneh et al. 2013 Tmin and Tmax and Continental average lapse rate (-6.5 C/km)"
   ]
  },
  {
   "cell_type": "code",
   "execution_count": 16,
   "metadata": {
    "collapsed": true
   },
   "outputs": [],
   "source": [
    "output_dir='fixTemp_Continental_AnnualObs'\n",
    "TcorrLow={10:-4.8,11:-6.5, 12:-6.5,1:-6.5,2:-6.5,3:-6.5,4:-6.5,5:-6.5,6:-6.5,7:-6.5,8:-6.5,9:-6.5}\n",
    "TcorrMid={10:-6.5,11:-6.5, 12:-6.5,1:-6.5,2:-6.5,3:-6.5,4:-6.5,5:-6.5,6:-6.5,7:-6.5,8:-6.5,9:-6.5}\n",
    "TcorrHigh={10:-6.5,11:-6.5, 12:-6.5,1:-6.5,2:-6.5,3:-6.5,4:-6.5,5:-6.5,6:-6.5,7:-6.5,8:-6.5,9:-6.5}"
   ]
  },
  {
   "cell_type": "code",
   "execution_count": 17,
   "metadata": {},
   "outputs": [
    {
     "name": "stdout",
     "output_type": "stream",
     "text": [
      "This will be worth waiting for...\n",
      "Look in the folder below to see the new data\n",
      "/home/jovyan/work/notebooks/data/0183ec4000f644fa9378cf28cfe5c2e2/0183ec4000f644fa9378cf28cfe5c2e2/data/contents/livneh2013/Daily_MET_1915_2011/fixTemp_Continental_AnnualObs\n",
      "\n",
      "mission complete.\n",
      "this device will now self-destruct.\n",
      "just kidding.\n"
     ]
    }
   ],
   "source": [
    "ft.FixElevationLapseRate_monthlyLapse_METinput(homedir,data_dir,month,TcorrLow,TcorrMid, TcorrHigh,basefile,basefile_elev,output_dir)"
   ]
  },
  {
   "cell_type": "markdown",
   "metadata": {},
   "source": [
    "Test 5. WRF is in Salathe 2014 folder, Test 6. PRISM is in livneh 2013/bc folder, Test 7. Atmospheric modeled lapse rate (to do)"
   ]
  },
  {
   "cell_type": "markdown",
   "metadata": {},
   "source": [
    "## 5. Save the data into a new HydroShare generic resource  - Update this to print a list of folders to folders in a new resource\n",
    "<a name=\"creation\"></a>\n",
    "\n",
    "Using the `hs_utils` library, the results of the Geoprocessing steps above can be saved back into HydroShare.  First, define all of the required metadata for resource creation, i.e. *title*, *abstract*, *keywords*, *content files*.  In addition, we must define the type of resource that will be created, in this case *genericresource*.  \n",
    "\n",
    "***Note:*** Make sure you save the notebook at this point, but note that changes only exist on the version on the JupyterHub server.  To save this Notebook back to HydroShare, it must be uploaded (using code in this notebook or manually to the website). \n"
   ]
  },
  {
   "cell_type": "markdown",
   "metadata": {},
   "source": [
    "#### Save Daily Meteorologic Data (2013)\n",
    "Create a list of files with their paths to be added to the HydroShare resource. For each list of files downloaded onto the server folder, move to a new HydroShare Generic Resource on the iRods server. "
   ]
  },
  {
   "cell_type": "code",
   "execution_count": null,
   "metadata": {
    "collapsed": true
   },
   "outputs": [],
   "source": [
    "#if 'Daily_MET_1915_2011' not in locals():\n",
    "#    Daily_MET_1915_2011 = ''.join([homedir, 'livneh2013/', 'Daily_MET_1915_2011/'])\n",
    "files = ogm.compileContentfiles(Daily_MET_1915_2011)\n",
    "#print files[0]  #print example files    "
   ]
  },
  {
   "cell_type": "code",
   "execution_count": null,
   "metadata": {
    "collapsed": true,
    "scrolled": false
   },
   "outputs": [],
   "source": [
    "title = 'Daily Obserational Hydrometeorology data set 2013: Sauk-Suiattle Extent' # title for the new resource\n",
    "abstract = 'This a download of gridded climate data from Livneh B., E.A. Rosenberg, C. Lin, B. Nijssen, V. Mishra, K.M. Andreadis, E.P. Maurer, and D.P. Lettenmaier, 2013: A Long-Term Hydrologically Based Dataset of Land Surface Fluxes and States for the Conterminous United States: Update and Extensions, Journal of Climate, 26, 9384–9392.' # abstract for the new resource\n",
    "keywords = ['Livneh', 'Hydrometeorology','Sauk'] \n",
    "rtype = 'genericresource'          # Hydroshare resource type\n",
    "resource_id = hs.createHydroShareResource(abstract, \n",
    "                                          title, \n",
    "                                          derivedFromId='14f0a6619c6b45cc90d1f8cabc4129af',#GIS point shapefile extent resource\n",
    "                                          keywords=keywords, \n",
    "                                          resource_type=rtype, \n",
    "                                          content_files=files, \n",
    "                                          public=False)"
   ]
  },
  {
   "cell_type": "markdown",
   "metadata": {},
   "source": [
    "#### Save Daily Meteorologic Data (2015)\n",
    "Create a list of files with their paths to be added to the HydroShare resource. For each list of files downloaded onto the server folder, move to a new HydroShare Generic Resource on the iRods server. "
   ]
  },
  {
   "cell_type": "code",
   "execution_count": null,
   "metadata": {
    "collapsed": true
   },
   "outputs": [],
   "source": [
    "if 'Daily_MET_1950_2013' not in locals():\n",
    "    Daily_MET_1950_2013 = ''.join([homedir, 'livneh2016/', 'Daily_MET_1950_2013/'])\n",
    "    files = ogm.compileContentfiles(Daily_MET_1950_2013)\n",
    "print Daily_MET_1950_2013"
   ]
  },
  {
   "cell_type": "code",
   "execution_count": null,
   "metadata": {
    "collapsed": true
   },
   "outputs": [],
   "source": [
    "title = 'Daily Obserational Hydrometeorology data set 2015: Sauk-Suiattle Extent' # title for the new resource\n",
    "abstract = 'This a download of gridded climate data from Livneh B., T.J. Bohn, D.S. Pierce, F. Munoz-Ariola, B. Nijssen, R. Vose, D. Cayan, and L.D. Brekke, 2015: A spatially comprehensive, hydrometeorological data set for Mexico, the U.S., and southern Canada 1950-2013, Nature Scientific Data, 5:150042, doi:10.1038/sdata.2015.42.' # abstract for the new resource\n",
    "keywords = ['Livneh', 'Hydrometeorology','Sauk'] \n",
    "rtype = 'genericresource'          # Hydroshare resource type\n",
    "resource_id = hs.createHydroShareResource(abstract, \n",
    "                                          title, \n",
    "                                          derivedFromId='ef2d82bf960144b4bfb1bae6242bcc7f',#GIS point shapefile extent resource\n",
    "                                          keywords=keywords, \n",
    "                                          resource_type=rtype, \n",
    "                                          content_files=files, \n",
    "                                          public=False)"
   ]
  },
  {
   "cell_type": "markdown",
   "metadata": {},
   "source": [
    "Edit and Repeat steps above to save VIC fluxes to new HydroShare resources."
   ]
  }
 ],
 "metadata": {
  "anaconda-cloud": {},
  "kernelspec": {
   "display_name": "Python 2",
   "language": "python",
   "name": "python2"
  },
  "language_info": {
   "codemirror_mode": {
    "name": "ipython",
    "version": 2
   },
   "file_extension": ".py",
   "mimetype": "text/x-python",
   "name": "python",
   "nbconvert_exporter": "python",
   "pygments_lexer": "ipython2",
   "version": "2.7.13"
  }
 },
 "nbformat": 4,
 "nbformat_minor": 1
}
